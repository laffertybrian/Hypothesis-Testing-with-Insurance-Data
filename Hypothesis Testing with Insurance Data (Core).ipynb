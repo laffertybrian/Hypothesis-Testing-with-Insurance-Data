{
 "cells": [
  {
   "cell_type": "markdown",
   "id": "ac8ba852",
   "metadata": {},
   "source": [
    "# Hypothesis Testing with Insurance Data (Core)\n",
    "- Brian Lafferty\n",
    "- 8.4.22"
   ]
  },
  {
   "cell_type": "markdown",
   "id": "a95cad7f",
   "metadata": {},
   "source": [
    "### Libraries and Imports"
   ]
  },
  {
   "cell_type": "code",
   "execution_count": 287,
   "id": "5f8a6a58",
   "metadata": {},
   "outputs": [],
   "source": [
    "# imports\n",
    "import pandas as pd\n",
    "import numpy as np\n",
    "import matplotlib.pyplot as plt\n",
    "import seaborn as sns\n",
    "import scipy.stats as stats"
   ]
  },
  {
   "cell_type": "markdown",
   "id": "7dc49205",
   "metadata": {},
   "source": [
    "### Loading Data"
   ]
  },
  {
   "cell_type": "code",
   "execution_count": 288,
   "id": "2482f024",
   "metadata": {},
   "outputs": [
    {
     "data": {
      "text/html": [
       "<div>\n",
       "<style scoped>\n",
       "    .dataframe tbody tr th:only-of-type {\n",
       "        vertical-align: middle;\n",
       "    }\n",
       "\n",
       "    .dataframe tbody tr th {\n",
       "        vertical-align: top;\n",
       "    }\n",
       "\n",
       "    .dataframe thead th {\n",
       "        text-align: right;\n",
       "    }\n",
       "</style>\n",
       "<table border=\"1\" class=\"dataframe\">\n",
       "  <thead>\n",
       "    <tr style=\"text-align: right;\">\n",
       "      <th></th>\n",
       "      <th>age</th>\n",
       "      <th>sex</th>\n",
       "      <th>bmi</th>\n",
       "      <th>children</th>\n",
       "      <th>smoker</th>\n",
       "      <th>region</th>\n",
       "      <th>charges</th>\n",
       "    </tr>\n",
       "  </thead>\n",
       "  <tbody>\n",
       "    <tr>\n",
       "      <th>0</th>\n",
       "      <td>19</td>\n",
       "      <td>female</td>\n",
       "      <td>27.900</td>\n",
       "      <td>0</td>\n",
       "      <td>yes</td>\n",
       "      <td>southwest</td>\n",
       "      <td>16884.92400</td>\n",
       "    </tr>\n",
       "    <tr>\n",
       "      <th>1</th>\n",
       "      <td>18</td>\n",
       "      <td>male</td>\n",
       "      <td>33.770</td>\n",
       "      <td>1</td>\n",
       "      <td>no</td>\n",
       "      <td>southeast</td>\n",
       "      <td>1725.55230</td>\n",
       "    </tr>\n",
       "    <tr>\n",
       "      <th>2</th>\n",
       "      <td>28</td>\n",
       "      <td>male</td>\n",
       "      <td>33.000</td>\n",
       "      <td>3</td>\n",
       "      <td>no</td>\n",
       "      <td>southeast</td>\n",
       "      <td>4449.46200</td>\n",
       "    </tr>\n",
       "    <tr>\n",
       "      <th>3</th>\n",
       "      <td>33</td>\n",
       "      <td>male</td>\n",
       "      <td>22.705</td>\n",
       "      <td>0</td>\n",
       "      <td>no</td>\n",
       "      <td>northwest</td>\n",
       "      <td>21984.47061</td>\n",
       "    </tr>\n",
       "    <tr>\n",
       "      <th>4</th>\n",
       "      <td>32</td>\n",
       "      <td>male</td>\n",
       "      <td>28.880</td>\n",
       "      <td>0</td>\n",
       "      <td>no</td>\n",
       "      <td>northwest</td>\n",
       "      <td>3866.85520</td>\n",
       "    </tr>\n",
       "  </tbody>\n",
       "</table>\n",
       "</div>"
      ],
      "text/plain": [
       "   age     sex     bmi  children smoker     region      charges\n",
       "0   19  female  27.900         0    yes  southwest  16884.92400\n",
       "1   18    male  33.770         1     no  southeast   1725.55230\n",
       "2   28    male  33.000         3     no  southeast   4449.46200\n",
       "3   33    male  22.705         0     no  northwest  21984.47061\n",
       "4   32    male  28.880         0     no  northwest   3866.85520"
      ]
     },
     "execution_count": 288,
     "metadata": {},
     "output_type": "execute_result"
    }
   ],
   "source": [
    "# Loading data\n",
    "df = pd.read_csv('https://docs.google.com/spreadsheets/d/e/2PACX-1vQBN8DPW2rdiRrY34eEM53HAzakNGSRrw4ogI-j8HyCUrbqTB_z4CeIn2IvjLF-w_6sOe5pIlypJGAA/pub?output=csv')\n",
    "df.head()"
   ]
  },
  {
   "cell_type": "markdown",
   "id": "a0411b9b",
   "metadata": {},
   "source": [
    "## Question #1: Do smokers have higher insurance charges than non-smokers?\n",
    "\n",
    "#### 1. State your Null Hypothesis and Alternate Hypothesis:\n",
    "\n",
    "- Null Hypothesis: All people have the similar insurance changes regardless of smoking habits.\n",
    "- Alternate Hypothesis: There is a difference in insurance changes depending on smoking habits.\n",
    "\n",
    "#### 2. Select the correct test according to the data type and number of samples:\n",
    "\n",
    "- The insurance charges are numeric and there are two groups (smokers, non-smokers).\n",
    "- I will use a 2 sample T-Test\n",
    "\n",
    "#### 3. Test the assumptions of your selected test:\n",
    "\n",
    "- The assumptions are: No significant outliers, Normality, Equal Variance\n",
    "\n",
    "#### 4. Execute the selected test, or the alternative test (if the assumptions are not met):\n",
    "\n",
    "- removed outliers from non-smokers group\n",
    "- neither group has a normal distribution, but they have enough samples\n",
    "- they do not have equal variance\n",
    "\n",
    "#### 5. Interpret your p-value and reject or fail to reject your null hypothesis:\n",
    "\n",
    "- I reject my Null Hypothesis because the p-value was less than .05 and accept my Alternative Hypothesis that there is a difference in insurance charges between smokers and non-smokers.\n",
    "\n",
    "#### 6. Show a supporting visualization that helps display the result:\n",
    "\n",
    "- I adapted code from the learn platform to create the visualization below."
   ]
  },
  {
   "cell_type": "markdown",
   "id": "075bb404",
   "metadata": {},
   "source": [
    "### Code to answer Question #1"
   ]
  },
  {
   "cell_type": "code",
   "execution_count": 289,
   "id": "c084c006",
   "metadata": {},
   "outputs": [
    {
     "data": {
      "text/plain": [
       "no     1064\n",
       "yes     274\n",
       "Name: smoker, dtype: int64"
      ]
     },
     "execution_count": 289,
     "metadata": {},
     "output_type": "execute_result"
    }
   ],
   "source": [
    "# viewing how many smokers and non-smokers there are\n",
    "df['smoker'].value_counts()"
   ]
  },
  {
   "cell_type": "code",
   "execution_count": 290,
   "id": "e9327539",
   "metadata": {},
   "outputs": [
    {
     "data": {
      "text/html": [
       "<div>\n",
       "<style scoped>\n",
       "    .dataframe tbody tr th:only-of-type {\n",
       "        vertical-align: middle;\n",
       "    }\n",
       "\n",
       "    .dataframe tbody tr th {\n",
       "        vertical-align: top;\n",
       "    }\n",
       "\n",
       "    .dataframe thead th {\n",
       "        text-align: right;\n",
       "    }\n",
       "</style>\n",
       "<table border=\"1\" class=\"dataframe\">\n",
       "  <thead>\n",
       "    <tr style=\"text-align: right;\">\n",
       "      <th></th>\n",
       "      <th>age</th>\n",
       "      <th>sex</th>\n",
       "      <th>bmi</th>\n",
       "      <th>children</th>\n",
       "      <th>smoker</th>\n",
       "      <th>region</th>\n",
       "      <th>charges</th>\n",
       "    </tr>\n",
       "  </thead>\n",
       "  <tbody>\n",
       "    <tr>\n",
       "      <th>0</th>\n",
       "      <td>19</td>\n",
       "      <td>female</td>\n",
       "      <td>27.90</td>\n",
       "      <td>0</td>\n",
       "      <td>yes</td>\n",
       "      <td>southwest</td>\n",
       "      <td>16884.9240</td>\n",
       "    </tr>\n",
       "    <tr>\n",
       "      <th>11</th>\n",
       "      <td>62</td>\n",
       "      <td>female</td>\n",
       "      <td>26.29</td>\n",
       "      <td>0</td>\n",
       "      <td>yes</td>\n",
       "      <td>southeast</td>\n",
       "      <td>27808.7251</td>\n",
       "    </tr>\n",
       "    <tr>\n",
       "      <th>14</th>\n",
       "      <td>27</td>\n",
       "      <td>male</td>\n",
       "      <td>42.13</td>\n",
       "      <td>0</td>\n",
       "      <td>yes</td>\n",
       "      <td>southeast</td>\n",
       "      <td>39611.7577</td>\n",
       "    </tr>\n",
       "    <tr>\n",
       "      <th>19</th>\n",
       "      <td>30</td>\n",
       "      <td>male</td>\n",
       "      <td>35.30</td>\n",
       "      <td>0</td>\n",
       "      <td>yes</td>\n",
       "      <td>southwest</td>\n",
       "      <td>36837.4670</td>\n",
       "    </tr>\n",
       "    <tr>\n",
       "      <th>23</th>\n",
       "      <td>34</td>\n",
       "      <td>female</td>\n",
       "      <td>31.92</td>\n",
       "      <td>1</td>\n",
       "      <td>yes</td>\n",
       "      <td>northeast</td>\n",
       "      <td>37701.8768</td>\n",
       "    </tr>\n",
       "  </tbody>\n",
       "</table>\n",
       "</div>"
      ],
      "text/plain": [
       "    age     sex    bmi  children smoker     region     charges\n",
       "0    19  female  27.90         0    yes  southwest  16884.9240\n",
       "11   62  female  26.29         0    yes  southeast  27808.7251\n",
       "14   27    male  42.13         0    yes  southeast  39611.7577\n",
       "19   30    male  35.30         0    yes  southwest  36837.4670\n",
       "23   34  female  31.92         1    yes  northeast  37701.8768"
      ]
     },
     "metadata": {},
     "output_type": "display_data"
    },
    {
     "data": {
      "text/html": [
       "<div>\n",
       "<style scoped>\n",
       "    .dataframe tbody tr th:only-of-type {\n",
       "        vertical-align: middle;\n",
       "    }\n",
       "\n",
       "    .dataframe tbody tr th {\n",
       "        vertical-align: top;\n",
       "    }\n",
       "\n",
       "    .dataframe thead th {\n",
       "        text-align: right;\n",
       "    }\n",
       "</style>\n",
       "<table border=\"1\" class=\"dataframe\">\n",
       "  <thead>\n",
       "    <tr style=\"text-align: right;\">\n",
       "      <th></th>\n",
       "      <th>age</th>\n",
       "      <th>sex</th>\n",
       "      <th>bmi</th>\n",
       "      <th>children</th>\n",
       "      <th>smoker</th>\n",
       "      <th>region</th>\n",
       "      <th>charges</th>\n",
       "    </tr>\n",
       "  </thead>\n",
       "  <tbody>\n",
       "    <tr>\n",
       "      <th>1</th>\n",
       "      <td>18</td>\n",
       "      <td>male</td>\n",
       "      <td>33.770</td>\n",
       "      <td>1</td>\n",
       "      <td>no</td>\n",
       "      <td>southeast</td>\n",
       "      <td>1725.55230</td>\n",
       "    </tr>\n",
       "    <tr>\n",
       "      <th>2</th>\n",
       "      <td>28</td>\n",
       "      <td>male</td>\n",
       "      <td>33.000</td>\n",
       "      <td>3</td>\n",
       "      <td>no</td>\n",
       "      <td>southeast</td>\n",
       "      <td>4449.46200</td>\n",
       "    </tr>\n",
       "    <tr>\n",
       "      <th>3</th>\n",
       "      <td>33</td>\n",
       "      <td>male</td>\n",
       "      <td>22.705</td>\n",
       "      <td>0</td>\n",
       "      <td>no</td>\n",
       "      <td>northwest</td>\n",
       "      <td>21984.47061</td>\n",
       "    </tr>\n",
       "    <tr>\n",
       "      <th>4</th>\n",
       "      <td>32</td>\n",
       "      <td>male</td>\n",
       "      <td>28.880</td>\n",
       "      <td>0</td>\n",
       "      <td>no</td>\n",
       "      <td>northwest</td>\n",
       "      <td>3866.85520</td>\n",
       "    </tr>\n",
       "    <tr>\n",
       "      <th>5</th>\n",
       "      <td>31</td>\n",
       "      <td>female</td>\n",
       "      <td>25.740</td>\n",
       "      <td>0</td>\n",
       "      <td>no</td>\n",
       "      <td>southeast</td>\n",
       "      <td>3756.62160</td>\n",
       "    </tr>\n",
       "  </tbody>\n",
       "</table>\n",
       "</div>"
      ],
      "text/plain": [
       "   age     sex     bmi  children smoker     region      charges\n",
       "1   18    male  33.770         1     no  southeast   1725.55230\n",
       "2   28    male  33.000         3     no  southeast   4449.46200\n",
       "3   33    male  22.705         0     no  northwest  21984.47061\n",
       "4   32    male  28.880         0     no  northwest   3866.85520\n",
       "5   31  female  25.740         0     no  southeast   3756.62160"
      ]
     },
     "execution_count": 290,
     "metadata": {},
     "output_type": "execute_result"
    }
   ],
   "source": [
    "# separtating into two groups based on smoking habit\n",
    "smokers = df.loc[df['smoker'] == 'yes'].copy()\n",
    "non_smokers = df.loc[df['smoker'] == 'no'].copy()\n",
    "\n",
    "display(smokers.head())\n",
    "non_smokers.head()"
   ]
  },
  {
   "cell_type": "code",
   "execution_count": 291,
   "id": "59c85bd7",
   "metadata": {},
   "outputs": [],
   "source": [
    "# selecting the charges feature from each group\n",
    "smokers_charges = smokers['charges']\n",
    "non_smokers_charges = non_smokers['charges']"
   ]
  },
  {
   "cell_type": "code",
   "execution_count": 292,
   "id": "fc9d7d44",
   "metadata": {},
   "outputs": [
    {
     "data": {
      "image/png": "[encoded data removed]",
      "text/plain": [
       "<Figure size 720x360 with 2 Axes>"
      ]
     },
     "metadata": {
      "needs_background": "light"
     },
     "output_type": "display_data"
    }
   ],
   "source": [
    "# Adapting the code from the lesson \"Intro to T-Tests\" to create a visualization\n",
    "\n",
    "smoker_palette={'yes':'cornflowerblue', \"no\":'lightsalmon'}\n",
    "# Creating base for plots to live\n",
    "fig, (ax,ax_bar) = plt.subplots(figsize= (10,5), ncols=2, \n",
    "                                constrained_layout=True,\n",
    "                                gridspec_kw={'width_ratios':[0.8,0.2]})\n",
    "\n",
    "\n",
    "# Histogram\n",
    "ax = sns.histplot(data=df, x='charges',fill=True,hue='smoker',kde=True,\n",
    "                  stat='density',common_norm=False,ax=ax,\n",
    "                  palette=smoker_palette)\n",
    "\n",
    "ax.axvline(np.mean(smokers_charges), ls='--',lw=3, \n",
    "           label=f\"Smokers (Mean={np.mean(smokers_charges):.2f})\",color=smoker_palette['yes'])\n",
    "\n",
    "ax.axvline(np.mean(non_smokers_charges), ls='--', lw=3, \n",
    "           label=f\"Non-Smoker (Mean={np.mean(non_smokers_charges):.2f})\",color=smoker_palette['no'])\n",
    "\n",
    "ax.legend(prop={\"size\":14}, loc='upper right')\n",
    "## Barplot\n",
    "sns.barplot(data=df, x='smoker',y='charges',ax = ax_bar,palette=smoker_palette)\n",
    "fig.suptitle('Comparison of Charges by Smoking Habit',fontsize='xx-large');"
   ]
  },
  {
   "cell_type": "markdown",
   "id": "6d2ffeae",
   "metadata": {},
   "source": [
    "#### Checking for and removing outliers"
   ]
  },
  {
   "cell_type": "code",
   "execution_count": 293,
   "id": "00e51a01",
   "metadata": {},
   "outputs": [
    {
     "data": {
      "text/plain": [
       "0"
      ]
     },
     "execution_count": 293,
     "metadata": {},
     "output_type": "execute_result"
    }
   ],
   "source": [
    "# check for outliers in smokers charges\n",
    "zscores = stats.zscore(smokers_charges)\n",
    "outliers = abs(zscores) > 3\n",
    "np.sum(outliers)"
   ]
  },
  {
   "cell_type": "code",
   "execution_count": 294,
   "id": "5b382e2b",
   "metadata": {},
   "outputs": [
    {
     "data": {
      "text/plain": [
       "24"
      ]
     },
     "execution_count": 294,
     "metadata": {},
     "output_type": "execute_result"
    }
   ],
   "source": [
    "# check for outliers in non-smokers charges\n",
    "zscores = stats.zscore(non_smokers_charges)\n",
    "outliers = abs(zscores) > 3\n",
    "np.sum(outliers)"
   ]
  },
  {
   "cell_type": "code",
   "execution_count": 295,
   "id": "9fc83476",
   "metadata": {},
   "outputs": [],
   "source": [
    "# removing the outliers in the non-smokers charges\n",
    "non_smokers_charges = non_smokers_charges[(np.abs(stats.zscore(non_smokers_charges)) < 3)]"
   ]
  },
  {
   "cell_type": "code",
   "execution_count": 296,
   "id": "82b28453",
   "metadata": {},
   "outputs": [
    {
     "data": {
      "text/plain": [
       "19"
      ]
     },
     "execution_count": 296,
     "metadata": {},
     "output_type": "execute_result"
    }
   ],
   "source": [
    "zscores = stats.zscore(non_smokers_charges)\n",
    "outliers = abs(zscores) > 3\n",
    "np.sum(outliers)"
   ]
  },
  {
   "cell_type": "markdown",
   "id": "135b8f71",
   "metadata": {},
   "source": [
    "#### Normality tests"
   ]
  },
  {
   "cell_type": "code",
   "execution_count": 297,
   "id": "014a7e36",
   "metadata": {},
   "outputs": [
    {
     "data": {
      "text/plain": [
       "NormaltestResult(statistic=61.03941356533816, pvalue=5.564930630036463e-14)"
      ]
     },
     "execution_count": 297,
     "metadata": {},
     "output_type": "execute_result"
    }
   ],
   "source": [
    "# checking smokers group for normality\n",
    "result_smokers_charges = stats.normaltest(smokers_charges)\n",
    "result_smokers_charges"
   ]
  },
  {
   "cell_type": "markdown",
   "id": "34b0aaab",
   "metadata": {},
   "source": [
    "The result is less than .05. This means that we reject the hypothesis that the distribution is normal...or say it is not a normal distribution. But because of the number of samples is above 15, we can move on."
   ]
  },
  {
   "cell_type": "code",
   "execution_count": 298,
   "id": "ed92df9c",
   "metadata": {},
   "outputs": [
    {
     "data": {
      "text/plain": [
       "NormaltestResult(statistic=163.80367047789198, pvalue=2.6945416315543976e-36)"
      ]
     },
     "execution_count": 298,
     "metadata": {},
     "output_type": "execute_result"
    }
   ],
   "source": [
    "# checking non_smokers group for normality\n",
    "result_non_smokers_charges = stats.normaltest(non_smokers_charges)\n",
    "result_non_smokers_charges"
   ]
  },
  {
   "cell_type": "markdown",
   "id": "025a1ec6",
   "metadata": {},
   "source": [
    "The distribution of non smokers charges is also not normal. But it has plenty of samples to move on with the next test."
   ]
  },
  {
   "cell_type": "markdown",
   "id": "f8f644d1",
   "metadata": {},
   "source": [
    "#### Check for Equal Variance"
   ]
  },
  {
   "cell_type": "code",
   "execution_count": 299,
   "id": "094ea311",
   "metadata": {},
   "outputs": [
    {
     "data": {
      "text/plain": [
       "LeveneResult(statistic=520.7468821724297, pvalue=2.4247238784347824e-97)"
      ]
     },
     "execution_count": 299,
     "metadata": {},
     "output_type": "execute_result"
    }
   ],
   "source": [
    "# testing for equal variance\n",
    "result = stats.levene(smokers_charges, non_smokers_charges)\n",
    "result"
   ]
  },
  {
   "cell_type": "markdown",
   "id": "bad8ad0b",
   "metadata": {},
   "source": [
    "This result is below .05 and means that we reject the hypothesis that the two groups have equal variance. meaning that the groups do not have equal variance. That is good to know, because I will make sure to use equal_var to False on the final test."
   ]
  },
  {
   "cell_type": "markdown",
   "id": "b9200bc6",
   "metadata": {},
   "source": [
    "#### Preforming Independent T-Test"
   ]
  },
  {
   "cell_type": "code",
   "execution_count": 300,
   "id": "082a2e96",
   "metadata": {},
   "outputs": [
    {
     "data": {
      "text/plain": [
       "Ttest_indResult(statistic=33.732305987092516, pvalue=2.575322662587431e-104)"
      ]
     },
     "execution_count": 300,
     "metadata": {},
     "output_type": "execute_result"
    }
   ],
   "source": [
    "# using the independent t-test with the equal_var feature set to false\n",
    "result = stats.ttest_ind(smokers_charges, non_smokers_charges, equal_var = False)\n",
    "result"
   ]
  },
  {
   "cell_type": "markdown",
   "id": "eb66fb23",
   "metadata": {},
   "source": [
    "This result is very much less than .05 mean that I can reject my Null Hypothesis and accept my Alternative Hypothesis. I will include this information above."
   ]
  },
  {
   "cell_type": "markdown",
   "id": "53356c29",
   "metadata": {},
   "source": [
    "## Question #2: Are men more likely to smoke than women?\n",
    "\n",
    "#### 1. State your Null Hypothesis and Alternate Hypothesis:\n",
    "\n",
    "- Null Hypothesis: There is no difference between the smoking habits of men and women.\n",
    "- Alternative Hypothesis: There is a difference between the smoking habits of men and women.\n",
    "\n",
    "#### 2. Select the correct test according to the data type and number of samples:\n",
    "\n",
    "- Categorical data, 2 groups\n",
    "- I will use a Chi-squared test\n",
    "\n",
    "#### 3. Test the assumptions of your selected test:\n",
    "\n",
    "- There are two categorical variables\n",
    "- The outcomes are independent\n",
    "\n",
    "#### 4. Execute the selected test, or the alternative test (if the assumptions are not met):\n",
    "\n",
    "- The two categorical variables are men and women, the outcome of them smoking or not is their choice and independent of others.\n",
    "\n",
    "#### 5. Interpret your p-value and reject or fail to reject your null hypothesis:\n",
    "\n",
    "- The p-value is less than .05 meaning that I reject my Null Hypothesis that men and women have similar smoking habits and accept the Alternative Hypothesis that there is a difference between the smoking habits of men and women.\n",
    "\n",
    "#### 6. Show a supporting visualization that helps display the result:\n",
    "\n",
    "- chart included below"
   ]
  },
  {
   "cell_type": "code",
   "execution_count": 301,
   "id": "5bab6c7d",
   "metadata": {},
   "outputs": [
    {
     "data": {
      "text/html": [
       "<div>\n",
       "<style scoped>\n",
       "    .dataframe tbody tr th:only-of-type {\n",
       "        vertical-align: middle;\n",
       "    }\n",
       "\n",
       "    .dataframe tbody tr th {\n",
       "        vertical-align: top;\n",
       "    }\n",
       "\n",
       "    .dataframe thead th {\n",
       "        text-align: right;\n",
       "    }\n",
       "</style>\n",
       "<table border=\"1\" class=\"dataframe\">\n",
       "  <thead>\n",
       "    <tr style=\"text-align: right;\">\n",
       "      <th></th>\n",
       "      <th>age</th>\n",
       "      <th>sex</th>\n",
       "      <th>bmi</th>\n",
       "      <th>children</th>\n",
       "      <th>smoker</th>\n",
       "      <th>region</th>\n",
       "      <th>charges</th>\n",
       "    </tr>\n",
       "  </thead>\n",
       "  <tbody>\n",
       "    <tr>\n",
       "      <th>0</th>\n",
       "      <td>19</td>\n",
       "      <td>female</td>\n",
       "      <td>27.900</td>\n",
       "      <td>0</td>\n",
       "      <td>yes</td>\n",
       "      <td>southwest</td>\n",
       "      <td>16884.92400</td>\n",
       "    </tr>\n",
       "    <tr>\n",
       "      <th>1</th>\n",
       "      <td>18</td>\n",
       "      <td>male</td>\n",
       "      <td>33.770</td>\n",
       "      <td>1</td>\n",
       "      <td>no</td>\n",
       "      <td>southeast</td>\n",
       "      <td>1725.55230</td>\n",
       "    </tr>\n",
       "    <tr>\n",
       "      <th>2</th>\n",
       "      <td>28</td>\n",
       "      <td>male</td>\n",
       "      <td>33.000</td>\n",
       "      <td>3</td>\n",
       "      <td>no</td>\n",
       "      <td>southeast</td>\n",
       "      <td>4449.46200</td>\n",
       "    </tr>\n",
       "    <tr>\n",
       "      <th>3</th>\n",
       "      <td>33</td>\n",
       "      <td>male</td>\n",
       "      <td>22.705</td>\n",
       "      <td>0</td>\n",
       "      <td>no</td>\n",
       "      <td>northwest</td>\n",
       "      <td>21984.47061</td>\n",
       "    </tr>\n",
       "    <tr>\n",
       "      <th>4</th>\n",
       "      <td>32</td>\n",
       "      <td>male</td>\n",
       "      <td>28.880</td>\n",
       "      <td>0</td>\n",
       "      <td>no</td>\n",
       "      <td>northwest</td>\n",
       "      <td>3866.85520</td>\n",
       "    </tr>\n",
       "  </tbody>\n",
       "</table>\n",
       "</div>"
      ],
      "text/plain": [
       "   age     sex     bmi  children smoker     region      charges\n",
       "0   19  female  27.900         0    yes  southwest  16884.92400\n",
       "1   18    male  33.770         1     no  southeast   1725.55230\n",
       "2   28    male  33.000         3     no  southeast   4449.46200\n",
       "3   33    male  22.705         0     no  northwest  21984.47061\n",
       "4   32    male  28.880         0     no  northwest   3866.85520"
      ]
     },
     "execution_count": 301,
     "metadata": {},
     "output_type": "execute_result"
    }
   ],
   "source": [
    "# display the dataframe\n",
    "df.head()"
   ]
  },
  {
   "cell_type": "code",
   "execution_count": 302,
   "id": "a0d05146",
   "metadata": {},
   "outputs": [
    {
     "data": {
      "image/png": "[encoded data removed]",
      "text/plain": [
       "<Figure size 432x288 with 1 Axes>"
      ]
     },
     "metadata": {
      "needs_background": "light"
     },
     "output_type": "display_data"
    }
   ],
   "source": [
    "# creating a visualization for the test\n",
    "ax = sns.countplot(data = df, x = 'sex', hue = 'smoker')\n",
    "ax.set_title('Number of Smokers by Gender');"
   ]
  },
  {
   "cell_type": "code",
   "execution_count": 303,
   "id": "7c612d02",
   "metadata": {},
   "outputs": [
    {
     "data": {
      "text/html": [
       "<div>\n",
       "<style scoped>\n",
       "    .dataframe tbody tr th:only-of-type {\n",
       "        vertical-align: middle;\n",
       "    }\n",
       "\n",
       "    .dataframe tbody tr th {\n",
       "        vertical-align: top;\n",
       "    }\n",
       "\n",
       "    .dataframe thead th {\n",
       "        text-align: right;\n",
       "    }\n",
       "</style>\n",
       "<table border=\"1\" class=\"dataframe\">\n",
       "  <thead>\n",
       "    <tr style=\"text-align: right;\">\n",
       "      <th>smoker</th>\n",
       "      <th>no</th>\n",
       "      <th>yes</th>\n",
       "    </tr>\n",
       "    <tr>\n",
       "      <th>sex</th>\n",
       "      <th></th>\n",
       "      <th></th>\n",
       "    </tr>\n",
       "  </thead>\n",
       "  <tbody>\n",
       "    <tr>\n",
       "      <th>female</th>\n",
       "      <td>547</td>\n",
       "      <td>115</td>\n",
       "    </tr>\n",
       "    <tr>\n",
       "      <th>male</th>\n",
       "      <td>517</td>\n",
       "      <td>159</td>\n",
       "    </tr>\n",
       "  </tbody>\n",
       "</table>\n",
       "</div>"
      ],
      "text/plain": [
       "smoker   no  yes\n",
       "sex             \n",
       "female  547  115\n",
       "male    517  159"
      ]
     },
     "execution_count": 303,
     "metadata": {},
     "output_type": "execute_result"
    }
   ],
   "source": [
    "# creating the contingency table\n",
    "table = pd.crosstab(df['sex'], df['smoker'])\n",
    "table"
   ]
  },
  {
   "cell_type": "code",
   "execution_count": 304,
   "id": "a6b7b2bb",
   "metadata": {},
   "outputs": [
    {
     "name": "stdout",
     "output_type": "stream",
     "text": [
      "The p_value is 0.006548143503580696\n"
     ]
    },
    {
     "data": {
      "text/plain": [
       "True"
      ]
     },
     "execution_count": 304,
     "metadata": {},
     "output_type": "execute_result"
    }
   ],
   "source": [
    "# running the chi squared test\n",
    "result = stats.chi2_contingency(table)\n",
    "# making sure that the output is in the correct form\n",
    "chi2, p, deg_free, expected_vals = result\n",
    "# the p_value\n",
    "print(f'The p_value is {p}')\n",
    "# is p less than .05\n",
    "p < .05"
   ]
  },
  {
   "cell_type": "markdown",
   "id": "4f4847ca",
   "metadata": {},
   "source": [
    "summary of results above"
   ]
  },
  {
   "cell_type": "markdown",
   "id": "13b0e1d7",
   "metadata": {},
   "source": [
    "## Question #3: Do different regions have different charges, on average?\n",
    "\n",
    "#### 1. State your Null Hypothesis and Alternate Hypothesis:\n",
    "\n",
    "- Null Hypothesis: All regions have similar average charges.\n",
    "- Alternative Hypothesis: There is a difference between the average charges of regions.\n",
    "\n",
    "#### 2. Select the correct test according to the data type and number of samples:\n",
    "\n",
    "- More than 2 samples (4 regions), numeric - because I am reviewing the difference between charges\n",
    "- I will use an ANOVA test\n",
    "\n",
    "#### 3. Test the assumptions of your selected test:\n",
    "\n",
    "- No significant outliers, equal variance, normality\n",
    "\n",
    "#### 4. Execute the selected test, or the alternative test (if the assumptions are not met):\n",
    "\n",
    "- removed the outliers\n",
    "- not normal distribution, but large enough to proceed\n",
    "- does not have equal variance - used the Kruskal-Wallis test\n",
    "\n",
    "#### 5. Interpret your p-value and reject or fail to reject your null hypothesis:\n",
    "\n",
    "- The p-value was greater than 0.05 which means that I fail to reject the Null Hypothesis. All regions have similar insurance charges.\n",
    "\n",
    "#### 6. Show a supporting visualization that helps display the result:\n",
    "\n",
    "- chart included below"
   ]
  },
  {
   "cell_type": "code",
   "execution_count": 305,
   "id": "538c729d",
   "metadata": {},
   "outputs": [
    {
     "data": {
      "text/plain": [
       "4"
      ]
     },
     "execution_count": 305,
     "metadata": {},
     "output_type": "execute_result"
    }
   ],
   "source": [
    "# checking how many regions there are.... is there more than 2?\n",
    "len(df['region'].unique())"
   ]
  },
  {
   "cell_type": "code",
   "execution_count": 306,
   "id": "c32bb7f4",
   "metadata": {},
   "outputs": [
    {
     "data": {
      "text/plain": [
       "southeast    364\n",
       "southwest    325\n",
       "northwest    325\n",
       "northeast    324\n",
       "Name: region, dtype: int64"
      ]
     },
     "execution_count": 306,
     "metadata": {},
     "output_type": "execute_result"
    }
   ],
   "source": [
    "# viewing the number of samples in each region\n",
    "df['region'].value_counts()"
   ]
  },
  {
   "cell_type": "code",
   "execution_count": 307,
   "id": "66a9875d",
   "metadata": {},
   "outputs": [
    {
     "data": {
      "text/plain": [
       "region\n",
       "northeast    13406.384516\n",
       "northwest    12417.575374\n",
       "southeast    14735.411438\n",
       "southwest    12346.937377\n",
       "Name: charges, dtype: float64"
      ]
     },
     "execution_count": 307,
     "metadata": {},
     "output_type": "execute_result"
    }
   ],
   "source": [
    "# groupby to get the numbers I am looking for\n",
    "region_charges_avg = df.groupby('region')['charges'].mean()\n",
    "region_charges_avg"
   ]
  },
  {
   "cell_type": "code",
   "execution_count": 308,
   "id": "c8ac43a4",
   "metadata": {},
   "outputs": [
    {
     "data": {
      "text/plain": [
       "{'northeast': 13406.384516385804,\n",
       " 'northwest': 12417.575373969232,\n",
       " 'southeast': 14735.41143760989,\n",
       " 'southwest': 12346.937377292308}"
      ]
     },
     "execution_count": 308,
     "metadata": {},
     "output_type": "execute_result"
    }
   ],
   "source": [
    "# coverting the pandas series into a dictionary\n",
    "region_charges = region_charges_avg.to_dict()\n",
    "region_charges"
   ]
  },
  {
   "cell_type": "code",
   "execution_count": 309,
   "id": "f57a248d",
   "metadata": {},
   "outputs": [
    {
     "data": {
      "image/png": "[encoded data removed]",
      "text/plain": [
       "<Figure size 432x288 with 1 Axes>"
      ]
     },
     "metadata": {
      "needs_background": "light"
     },
     "output_type": "display_data"
    }
   ],
   "source": [
    "# converting the pandas series created in the groupby into an object I could graph\n",
    "# refereneced this post and adapted code: https://stackoverflow.com/questions/46793448/plotting-series-using-seaborn\n",
    "avg_region_charges = region_charges_avg.reset_index()\n",
    "avg_region_charges.columns = ['region', 'avg_charges']\n",
    "\n",
    "# visualizing the data\n",
    "sns.barplot(data = avg_region_charges, x = 'region', y = 'avg_charges');"
   ]
  },
  {
   "cell_type": "code",
   "execution_count": 310,
   "id": "70b251c1",
   "metadata": {},
   "outputs": [
    {
     "data": {
      "text/plain": [
       "dict_keys(['southwest', 'southeast', 'northwest', 'northeast'])"
      ]
     },
     "execution_count": 310,
     "metadata": {},
     "output_type": "execute_result"
    }
   ],
   "source": [
    "# following what the learn platform does\n",
    "groups = {}\n",
    "# loop through all unique categories\n",
    "for i in df['region'].unique():\n",
    "    # getting the series for the group\n",
    "    data = df.loc[df['region'] == i, 'charges'].copy()\n",
    "    \n",
    "    # saving info into dictionary\n",
    "    groups[i] = data\n",
    "    \n",
    "# checking if all regions were captured\n",
    "groups.keys()"
   ]
  },
  {
   "cell_type": "markdown",
   "id": "d0fea7b9",
   "metadata": {},
   "source": [
    "### Testing Assuptions"
   ]
  },
  {
   "cell_type": "markdown",
   "id": "b467d7d0",
   "metadata": {},
   "source": [
    "#### Checking for and Removing Outliers"
   ]
  },
  {
   "cell_type": "code",
   "execution_count": 311,
   "id": "8dc9ac8d",
   "metadata": {},
   "outputs": [
    {
     "data": {
      "text/html": [
       "<div>\n",
       "<style scoped>\n",
       "    .dataframe tbody tr th:only-of-type {\n",
       "        vertical-align: middle;\n",
       "    }\n",
       "\n",
       "    .dataframe tbody tr th {\n",
       "        vertical-align: top;\n",
       "    }\n",
       "\n",
       "    .dataframe thead th {\n",
       "        text-align: right;\n",
       "    }\n",
       "</style>\n",
       "<table border=\"1\" class=\"dataframe\">\n",
       "  <thead>\n",
       "    <tr style=\"text-align: right;\">\n",
       "      <th></th>\n",
       "      <th>outliers</th>\n",
       "    </tr>\n",
       "  </thead>\n",
       "  <tbody>\n",
       "    <tr>\n",
       "      <th>southwest</th>\n",
       "      <td>8</td>\n",
       "    </tr>\n",
       "    <tr>\n",
       "      <th>southeast</th>\n",
       "      <td>2</td>\n",
       "    </tr>\n",
       "    <tr>\n",
       "      <th>northwest</th>\n",
       "      <td>7</td>\n",
       "    </tr>\n",
       "    <tr>\n",
       "      <th>northeast</th>\n",
       "      <td>4</td>\n",
       "    </tr>\n",
       "  </tbody>\n",
       "</table>\n",
       "</div>"
      ],
      "text/plain": [
       "           outliers\n",
       "southwest         8\n",
       "southeast         2\n",
       "northwest         7\n",
       "northeast         4"
      ]
     },
     "execution_count": 311,
     "metadata": {},
     "output_type": "execute_result"
    }
   ],
   "source": [
    "# checking z scores for outliers\n",
    "zscore_results = {}\n",
    "\n",
    "for i, data in groups.items():\n",
    "    zscores = stats.zscore(data)\n",
    "    outliers = abs(zscores) > 3\n",
    "    \n",
    "    # outliers to a dictionary\n",
    "    zscore_results[i] = {'outliers': np.sum(outliers)}\n",
    "    \n",
    "# creating a dataframe from the dictionary\n",
    "zscore_results_df = pd.DataFrame(zscore_results).T\n",
    "zscore_results_df"
   ]
  },
  {
   "cell_type": "code",
   "execution_count": 312,
   "id": "45ae8c0c",
   "metadata": {},
   "outputs": [],
   "source": [
    "# removing outlier from the groups\n",
    "# loop through all groups and drop outliers\n",
    "for i, data in groups.items():\n",
    "\n",
    "    # taking out the outliers\n",
    "    data = data[(np.abs(stats.zscore(data)) < 3)] \n",
    "    \n",
    "    # saving updated data\n",
    "    groups[i] = data"
   ]
  },
  {
   "cell_type": "markdown",
   "id": "124b8f16",
   "metadata": {},
   "source": [
    "#### Assumption of Normality"
   ]
  },
  {
   "cell_type": "code",
   "execution_count": 313,
   "id": "bcfb40a2",
   "metadata": {},
   "outputs": [
    {
     "data": {
      "text/html": [
       "<div>\n",
       "<style scoped>\n",
       "    .dataframe tbody tr th:only-of-type {\n",
       "        vertical-align: middle;\n",
       "    }\n",
       "\n",
       "    .dataframe tbody tr th {\n",
       "        vertical-align: top;\n",
       "    }\n",
       "\n",
       "    .dataframe thead th {\n",
       "        text-align: right;\n",
       "    }\n",
       "</style>\n",
       "<table border=\"1\" class=\"dataframe\">\n",
       "  <thead>\n",
       "    <tr style=\"text-align: right;\">\n",
       "      <th></th>\n",
       "      <th>n</th>\n",
       "      <th>p</th>\n",
       "      <th>test stat</th>\n",
       "    </tr>\n",
       "  </thead>\n",
       "  <tbody>\n",
       "    <tr>\n",
       "      <th>southwest</th>\n",
       "      <td>317.0</td>\n",
       "      <td>7.728611e-22</td>\n",
       "      <td>97.223886</td>\n",
       "    </tr>\n",
       "    <tr>\n",
       "      <th>southeast</th>\n",
       "      <td>362.0</td>\n",
       "      <td>1.936990e-13</td>\n",
       "      <td>58.544942</td>\n",
       "    </tr>\n",
       "    <tr>\n",
       "      <th>northwest</th>\n",
       "      <td>318.0</td>\n",
       "      <td>2.940543e-19</td>\n",
       "      <td>85.341045</td>\n",
       "    </tr>\n",
       "    <tr>\n",
       "      <th>northeast</th>\n",
       "      <td>320.0</td>\n",
       "      <td>3.557877e-17</td>\n",
       "      <td>75.749565</td>\n",
       "    </tr>\n",
       "  </tbody>\n",
       "</table>\n",
       "</div>"
      ],
      "text/plain": [
       "               n             p  test stat\n",
       "southwest  317.0  7.728611e-22  97.223886\n",
       "southeast  362.0  1.936990e-13  58.544942\n",
       "northwest  318.0  2.940543e-19  85.341045\n",
       "northeast  320.0  3.557877e-17  75.749565"
      ]
     },
     "execution_count": 313,
     "metadata": {},
     "output_type": "execute_result"
    }
   ],
   "source": [
    "# completing a normal test on each group\n",
    "normality_results = {}\n",
    "\n",
    "for i, data in groups.items():\n",
    "    stat, p = stats.normaltest(data)\n",
    "    \n",
    "    # saving p-value, test statistic and the group size\n",
    "    normality_results[i] = {'n': len(data), 'p': p, 'test stat': stat}\n",
    "    \n",
    "# creating a dataframe from the dictionary\n",
    "normal_results_df = pd.DataFrame(normality_results).T\n",
    "normal_results_df"
   ]
  },
  {
   "cell_type": "code",
   "execution_count": 314,
   "id": "8ed63382",
   "metadata": {},
   "outputs": [
    {
     "data": {
      "text/html": [
       "<div>\n",
       "<style scoped>\n",
       "    .dataframe tbody tr th:only-of-type {\n",
       "        vertical-align: middle;\n",
       "    }\n",
       "\n",
       "    .dataframe tbody tr th {\n",
       "        vertical-align: top;\n",
       "    }\n",
       "\n",
       "    .dataframe thead th {\n",
       "        text-align: right;\n",
       "    }\n",
       "</style>\n",
       "<table border=\"1\" class=\"dataframe\">\n",
       "  <thead>\n",
       "    <tr style=\"text-align: right;\">\n",
       "      <th></th>\n",
       "      <th>n</th>\n",
       "      <th>p</th>\n",
       "      <th>test stat</th>\n",
       "      <th>sig_result</th>\n",
       "    </tr>\n",
       "  </thead>\n",
       "  <tbody>\n",
       "    <tr>\n",
       "      <th>southwest</th>\n",
       "      <td>317.0</td>\n",
       "      <td>7.728611e-22</td>\n",
       "      <td>97.223886</td>\n",
       "      <td>True</td>\n",
       "    </tr>\n",
       "    <tr>\n",
       "      <th>southeast</th>\n",
       "      <td>362.0</td>\n",
       "      <td>1.936990e-13</td>\n",
       "      <td>58.544942</td>\n",
       "      <td>True</td>\n",
       "    </tr>\n",
       "    <tr>\n",
       "      <th>northwest</th>\n",
       "      <td>318.0</td>\n",
       "      <td>2.940543e-19</td>\n",
       "      <td>85.341045</td>\n",
       "      <td>True</td>\n",
       "    </tr>\n",
       "    <tr>\n",
       "      <th>northeast</th>\n",
       "      <td>320.0</td>\n",
       "      <td>3.557877e-17</td>\n",
       "      <td>75.749565</td>\n",
       "      <td>True</td>\n",
       "    </tr>\n",
       "  </tbody>\n",
       "</table>\n",
       "</div>"
      ],
      "text/plain": [
       "               n             p  test stat  sig_result\n",
       "southwest  317.0  7.728611e-22  97.223886        True\n",
       "southeast  362.0  1.936990e-13  58.544942        True\n",
       "northwest  318.0  2.940543e-19  85.341045        True\n",
       "northeast  320.0  3.557877e-17  75.749565        True"
      ]
     },
     "execution_count": 314,
     "metadata": {},
     "output_type": "execute_result"
    }
   ],
   "source": [
    "# using a pandas dataframe to track if there is a significant result\n",
    "normal_results_df['sig_result'] = normal_results_df['p'] < .05\n",
    "normal_results_df"
   ]
  },
  {
   "cell_type": "markdown",
   "id": "4e67d052",
   "metadata": {},
   "source": [
    "Each group does not have a normal distribution! Because each group is large enough we can proceed."
   ]
  },
  {
   "cell_type": "markdown",
   "id": "ecbb2c25",
   "metadata": {},
   "source": [
    "#### Testing Equal Variance"
   ]
  },
  {
   "cell_type": "code",
   "execution_count": 315,
   "id": "94b84204",
   "metadata": {},
   "outputs": [
    {
     "data": {
      "text/plain": [
       "LeveneResult(statistic=9.518349004554441, pvalue=3.2035503711783993e-06)"
      ]
     },
     "execution_count": 315,
     "metadata": {},
     "output_type": "execute_result"
    }
   ],
   "source": [
    "# using the Levene test to check equal variance\n",
    "# also using * operator to unpack the dictionary\n",
    "stats.levene(*groups.values())"
   ]
  },
  {
   "cell_type": "markdown",
   "id": "7a9a51ab",
   "metadata": {},
   "source": [
    "The p value is less than .05 so I will reject the Hypothesis that they have equal variance. Because this was an ANOVA test but does not have equal variance, I can use Kruskal-Wallis test according to the Hypothesis testing guide."
   ]
  },
  {
   "cell_type": "markdown",
   "id": "e9734a8d",
   "metadata": {},
   "source": [
    "#### Completing the Kruskal-Wallis test"
   ]
  },
  {
   "cell_type": "code",
   "execution_count": 316,
   "id": "af612f20",
   "metadata": {},
   "outputs": [
    {
     "data": {
      "text/plain": [
       "KruskalResult(statistic=6.914045702545643, pvalue=0.07468847911322242)"
      ]
     },
     "execution_count": 316,
     "metadata": {},
     "output_type": "execute_result"
    }
   ],
   "source": [
    "# using stats.kruskal\n",
    "result = stats.kruskal(*groups.values())\n",
    "result"
   ]
  },
  {
   "cell_type": "markdown",
   "id": "4dd3b226",
   "metadata": {},
   "source": [
    "The p-value is greater than .05 which means that I fail to reject the null Hypothesis that there is a difference in regions."
   ]
  },
  {
   "cell_type": "code",
   "execution_count": null,
   "id": "1c561151",
   "metadata": {},
   "outputs": [],
   "source": []
  }
 ],
 "metadata": {
  "kernelspec": {
   "display_name": "Python (dojo-env)",
   "language": "python",
   "name": "dojo-env"
  },
  "language_info": {
   "codemirror_mode": {
    "name": "ipython",
    "version": 3
   },
   "file_extension": ".py",
   "mimetype": "text/x-python",
   "name": "python",
   "nbconvert_exporter": "python",
   "pygments_lexer": "ipython3",
   "version": "3.8.13"
  },
  "toc": {
   "base_numbering": 1,
   "nav_menu": {},
   "number_sections": true,
   "sideBar": true,
   "skip_h1_title": false,
   "title_cell": "Table of Contents",
   "title_sidebar": "Contents",
   "toc_cell": false,
   "toc_position": {},
   "toc_section_display": true,
   "toc_window_display": false
  }
 },
 "nbformat": 4,
 "nbformat_minor": 5
}
